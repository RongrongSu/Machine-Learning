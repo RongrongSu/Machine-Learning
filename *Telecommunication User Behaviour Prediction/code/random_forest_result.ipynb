{
  "nbformat": 4,
  "nbformat_minor": 0,
  "metadata": {
    "colab": {
      "name": "random forest result.ipynb",
      "version": "0.3.2",
      "provenance": [],
      "collapsed_sections": []
    },
    "kernelspec": {
      "name": "python3",
      "display_name": "Python 3"
    },
    "accelerator": "GPU"
  },
  "cells": [
    {
      "metadata": {
        "id": "r2zynrN7UjEZ",
        "colab_type": "code",
        "outputId": "3d8f8af8-56c0-424c-932d-08604966e17d",
        "colab": {
          "base_uri": "https://localhost:8080/",
          "height": 158
        }
      },
      "cell_type": "code",
      "source": [
        "from google.colab import drive\n",
        "drive.mount('/Downloads/')"
      ],
      "execution_count": 1,
      "outputs": [
        {
          "output_type": "stream",
          "text": [
            "Go to this URL in a browser: https://accounts.google.com/o/oauth2/auth?client_id=947318989803-6bn6qk8qdgf4n4g3pfee6491hc0brc4i.apps.googleusercontent.com&redirect_uri=urn%3Aietf%3Awg%3Aoauth%3A2.0%3Aoob&scope=email%20https%3A%2F%2Fwww.googleapis.com%2Fauth%2Fdocs.test%20https%3A%2F%2Fwww.googleapis.com%2Fauth%2Fdrive%20https%3A%2F%2Fwww.googleapis.com%2Fauth%2Fdrive.photos.readonly%20https%3A%2F%2Fwww.googleapis.com%2Fauth%2Fpeopleapi.readonly&response_type=code\n",
            "\n",
            "Enter your authorization code:\n",
            "··········\n",
            "Mounted at /Downloads/\n"
          ],
          "name": "stdout"
        }
      ]
    },
    {
      "metadata": {
        "id": "6DmotD6K3hmK",
        "colab_type": "code",
        "outputId": "66dfbe66-2a6e-4d02-fe92-93a7927914ce",
        "colab": {
          "base_uri": "https://localhost:8080/",
          "height": 127
        }
      },
      "cell_type": "code",
      "source": [
        "import pandas as pd\n",
        "!ls \"/Downloads/My Drive/STAT 841/Project Used/\""
      ],
      "execution_count": 2,
      "outputs": [
        {
          "output_type": "stream",
          "text": [
            "ls: cannot access '/Downloads/My Drive/STAT 841/Project Used/': No such file or directory\n"
          ],
          "name": "stdout"
        }
      ]
    },
    {
      "metadata": {
        "id": "lbENAYsz3ZhQ",
        "colab_type": "code",
        "colab": {}
      },
      "cell_type": "code",
      "source": [
        "import pandas as pd\n",
        "train = pd.read_csv('/Downloads/My Drive/waterloo/Fall 2018/STAT 841/final project/STAT 841/Project Used/train_no_missing_outlier.csv')\n",
        "del train['id']\n",
        "del train['open_date']\n",
        "target='flag'\n",
        "train['flag'].value_counts()\n",
        "x_columns=[x for x in train.columns if x not in [target] ]\n",
        "X_tot=train[x_columns]\n",
        "X=X_tot.drop(columns=['caller_sum_45','caller_sum_456','record_sum_45','record_sum_456','time_sum_45','time_sum_456'])\n",
        "y=train['flag']"
      ],
      "execution_count": 0,
      "outputs": []
    },
    {
      "metadata": {
        "id": "Yvd00WI2Ujgy",
        "colab_type": "code",
        "colab": {}
      },
      "cell_type": "code",
      "source": [
        "import numpy as np\n",
        "from sklearn.ensemble import RandomForestClassifier\n",
        "from sklearn.model_selection import train_test_split\n",
        "from sklearn.metrics import accuracy_score\n",
        "from sklearn.metrics import confusion_matrix"
      ],
      "execution_count": 0,
      "outputs": []
    },
    {
      "metadata": {
        "id": "UJ5pZx5H2-Cp",
        "colab_type": "code",
        "colab": {
          "base_uri": "https://localhost:8080/",
          "height": 186
        },
        "outputId": "b317822d-2526-45ff-adc8-8c4fbe3518ce"
      },
      "cell_type": "code",
      "source": [
        "X_train, X_test, y_train, y_test = train_test_split(X, y, test_size=0.2)\n",
        "clf = RandomForestClassifier()\n",
        "clf.fit(X_train, y_train)\n"
      ],
      "execution_count": 5,
      "outputs": [
        {
          "output_type": "stream",
          "text": [
            "/usr/local/lib/python3.6/dist-packages/sklearn/ensemble/forest.py:246: FutureWarning: The default value of n_estimators will change from 10 in version 0.20 to 100 in 0.22.\n",
            "  \"10 in version 0.20 to 100 in 0.22.\", FutureWarning)\n"
          ],
          "name": "stderr"
        },
        {
          "output_type": "execute_result",
          "data": {
            "text/plain": [
              "RandomForestClassifier(bootstrap=True, class_weight=None, criterion='gini',\n",
              "            max_depth=None, max_features='auto', max_leaf_nodes=None,\n",
              "            min_impurity_decrease=0.0, min_impurity_split=None,\n",
              "            min_samples_leaf=1, min_samples_split=2,\n",
              "            min_weight_fraction_leaf=0.0, n_estimators=10, n_jobs=None,\n",
              "            oob_score=False, random_state=None, verbose=0,\n",
              "            warm_start=False)"
            ]
          },
          "metadata": {
            "tags": []
          },
          "execution_count": 5
        }
      ]
    },
    {
      "metadata": {
        "id": "pi998MOV8TDJ",
        "colab_type": "code",
        "colab": {}
      },
      "cell_type": "code",
      "source": [
        "y_pred = clf.predict(X_test)"
      ],
      "execution_count": 0,
      "outputs": []
    },
    {
      "metadata": {
        "id": "IqvKkNTzXtXs",
        "colab_type": "code",
        "outputId": "0153b00e-8480-44fe-cc5d-1a8f15d7e2fc",
        "colab": {
          "base_uri": "https://localhost:8080/",
          "height": 105
        }
      },
      "cell_type": "code",
      "source": [
        "print('Accuracy for the RandomForest Tree model:',accuracy_score(y_test, y_pred))\n",
        "print('Confusion matrix for the RandomForest Tree model:')\n",
        "print(confusion_matrix(y_test, y_pred))"
      ],
      "execution_count": 7,
      "outputs": [
        {
          "output_type": "stream",
          "text": [
            "Accuracy for the RandomForest Tree model: 0.8768304565975019\n",
            "Confusion matrix for the RandomForest Tree model:\n",
            "[[851290  22383]\n",
            " [103010  41369]]\n"
          ],
          "name": "stdout"
        }
      ]
    },
    {
      "metadata": {
        "id": "bkyCmIwszHQP",
        "colab_type": "code",
        "colab": {}
      },
      "cell_type": "code",
      "source": [
        "from sklearn.metrics import roc_auc_score\n",
        "roc_score = roc_auc_score(y_test, y_pred)"
      ],
      "execution_count": 0,
      "outputs": []
    },
    {
      "metadata": {
        "id": "yfuRHWAYGsLN",
        "colab_type": "code",
        "outputId": "8bcb956d-57f1-4b54-fd03-56b02d5afd94",
        "colab": {
          "base_uri": "https://localhost:8080/",
          "height": 54
        }
      },
      "cell_type": "code",
      "source": [
        "roc_score"
      ],
      "execution_count": 9,
      "outputs": [
        {
          "output_type": "execute_result",
          "data": {
            "text/plain": [
              "0.6304555822559829"
            ]
          },
          "metadata": {
            "tags": []
          },
          "execution_count": 9
        }
      ]
    },
    {
      "metadata": {
        "id": "w10SBaqzG4DK",
        "colab_type": "code",
        "outputId": "d503518d-2d9c-40a4-ed13-f6eb11c19bef",
        "colab": {
          "base_uri": "https://localhost:8080/",
          "height": 193
        }
      },
      "cell_type": "code",
      "source": [
        "clf = RandomForestClassifier(class_weight={0:0.2,1:0.8})\n",
        "clf.fit(X_train, y_train)"
      ],
      "execution_count": 10,
      "outputs": [
        {
          "output_type": "stream",
          "text": [
            "/usr/local/lib/python3.6/dist-packages/sklearn/ensemble/forest.py:246: FutureWarning: The default value of n_estimators will change from 10 in version 0.20 to 100 in 0.22.\n",
            "  \"10 in version 0.20 to 100 in 0.22.\", FutureWarning)\n"
          ],
          "name": "stderr"
        },
        {
          "output_type": "execute_result",
          "data": {
            "text/plain": [
              "RandomForestClassifier(bootstrap=True, class_weight={0: 0.2, 1: 0.8},\n",
              "            criterion='gini', max_depth=None, max_features='auto',\n",
              "            max_leaf_nodes=None, min_impurity_decrease=0.0,\n",
              "            min_impurity_split=None, min_samples_leaf=1,\n",
              "            min_samples_split=2, min_weight_fraction_leaf=0.0,\n",
              "            n_estimators=10, n_jobs=None, oob_score=False,\n",
              "            random_state=None, verbose=0, warm_start=False)"
            ]
          },
          "metadata": {
            "tags": []
          },
          "execution_count": 10
        }
      ]
    },
    {
      "metadata": {
        "id": "0mHvU2kjS7d4",
        "colab_type": "code",
        "outputId": "c307a519-6906-4aa8-ad03-750bdd01827e",
        "colab": {
          "base_uri": "https://localhost:8080/",
          "height": 120
        }
      },
      "cell_type": "code",
      "source": [
        "y_pred = clf.predict(X_test)\n",
        "from sklearn.metrics import roc_auc_score\n",
        "print('the accuracy is:',accuracy_score(y_test, y_pred))\n",
        "print('the accuracy is:',roc_auc_score(y_test, y_pred))\n",
        "print('Confusion matrix for the RandomForest model(with weight):')\n",
        "print(confusion_matrix(y_test, y_pred))"
      ],
      "execution_count": 11,
      "outputs": [
        {
          "output_type": "stream",
          "text": [
            "the accuracy is: 0.8773697217823844\n",
            "the accuracy is: 0.621822712940904\n",
            "Confusion matrix for the RandomForest model(with weight):\n",
            "[[854934  18739]\n",
            " [106105  38274]]\n"
          ],
          "name": "stdout"
        }
      ]
    },
    {
      "metadata": {
        "id": "VY5kO9uhRDVS",
        "colab_type": "code",
        "outputId": "f0111c9a-1a31-4a79-ceb6-c4c62b67ac70",
        "colab": {
          "base_uri": "https://localhost:8080/",
          "height": 160
        }
      },
      "cell_type": "code",
      "source": [
        "clf = RandomForestClassifier(class_weight={0:0.1,1:0.9})\n",
        "clf.fit(X_train, y_train)\n",
        "y_pred = clf.predict(X_test)\n",
        "from sklearn.metrics import roc_auc_score\n",
        "print('the accuracy is:',accuracy_score(y_test, y_pred))\n",
        "print('the accuracy is:',roc_auc_score(y_test, y_pred))\n",
        "print('Confusion matrix for the RandomForest model(with weight):')\n",
        "print(confusion_matrix(y_test, y_pred))"
      ],
      "execution_count": 12,
      "outputs": [
        {
          "output_type": "stream",
          "text": [
            "/usr/local/lib/python3.6/dist-packages/sklearn/ensemble/forest.py:246: FutureWarning: The default value of n_estimators will change from 10 in version 0.20 to 100 in 0.22.\n",
            "  \"10 in version 0.20 to 100 in 0.22.\", FutureWarning)\n"
          ],
          "name": "stderr"
        },
        {
          "output_type": "stream",
          "text": [
            "the accuracy is: 0.8775042925115809\n",
            "the accuracy is: 0.6186460643577336\n",
            "Confusion matrix for the RandomForest model(with weight):\n",
            "[[856197  17476]\n",
            " [107231  37148]]\n"
          ],
          "name": "stdout"
        }
      ]
    },
    {
      "metadata": {
        "id": "eNwlK0TiTz-g",
        "colab_type": "code",
        "outputId": "f439d4f7-096d-4c9c-9031-f3ffa3b4e4c7",
        "colab": {
          "base_uri": "https://localhost:8080/",
          "height": 160
        }
      },
      "cell_type": "code",
      "source": [
        "clf = RandomForestClassifier(class_weight={0:0.3,1:0.7})\n",
        "clf.fit(X_train, y_train)\n",
        "y_pred = clf.predict(X_test)\n",
        "print('the accuracy is:',accuracy_score(y_test, y_pred))\n",
        "print('the accuracy is:',roc_auc_score(y_test, y_pred))\n",
        "print('Confusion matrix for the RandomForest model(with weight):')\n",
        "print(confusion_matrix(y_test, y_pred))"
      ],
      "execution_count": 13,
      "outputs": [
        {
          "output_type": "stream",
          "text": [
            "/usr/local/lib/python3.6/dist-packages/sklearn/ensemble/forest.py:246: FutureWarning: The default value of n_estimators will change from 10 in version 0.20 to 100 in 0.22.\n",
            "  \"10 in version 0.20 to 100 in 0.22.\", FutureWarning)\n"
          ],
          "name": "stderr"
        },
        {
          "output_type": "stream",
          "text": [
            "the accuracy is: 0.8774325869405492\n",
            "the accuracy is: 0.62494961689267\n",
            "Confusion matrix for the RandomForest model(with weight):\n",
            "[[853929  19744]\n",
            " [105036  39343]]\n"
          ],
          "name": "stdout"
        }
      ]
    },
    {
      "metadata": {
        "id": "pmFv-L6NWrqX",
        "colab_type": "code",
        "outputId": "42d3f57b-7c68-43cc-c1b4-1b8dbcd3c721",
        "colab": {
          "base_uri": "https://localhost:8080/",
          "height": 160
        }
      },
      "cell_type": "code",
      "source": [
        "clf = RandomForestClassifier(class_weight={0:0.4,1:0.6})\n",
        "clf.fit(X_train, y_train)\n",
        "y_pred = clf.predict(X_test)\n",
        "print('the accuracy is:',accuracy_score(y_test, y_pred))\n",
        "print('the accuracy is:',roc_auc_score(y_test, y_pred))\n",
        "print('Confusion matrix for the RandomForest model(with weight):')\n",
        "print(confusion_matrix(y_test, y_pred))"
      ],
      "execution_count": 14,
      "outputs": [
        {
          "output_type": "stream",
          "text": [
            "/usr/local/lib/python3.6/dist-packages/sklearn/ensemble/forest.py:246: FutureWarning: The default value of n_estimators will change from 10 in version 0.20 to 100 in 0.22.\n",
            "  \"10 in version 0.20 to 100 in 0.22.\", FutureWarning)\n"
          ],
          "name": "stderr"
        },
        {
          "output_type": "stream",
          "text": [
            "the accuracy is: 0.8770328038253449\n",
            "the accuracy is: 0.628029561641168\n",
            "Confusion matrix for the RandomForest model(with weight):\n",
            "[[852376  21297]\n",
            " [103890  40489]]\n"
          ],
          "name": "stdout"
        }
      ]
    },
    {
      "metadata": {
        "id": "kverxOCHZQFL",
        "colab_type": "code",
        "outputId": "76f6a41d-8709-4726-8665-dbde2b673fb2",
        "colab": {
          "base_uri": "https://localhost:8080/",
          "height": 160
        }
      },
      "cell_type": "code",
      "source": [
        "clf = RandomForestClassifier(class_weight={0:0.5,1:0.5})\n",
        "clf.fit(X_train, y_train)\n",
        "y_pred = clf.predict(X_test)\n",
        "print('the accuracy is:',accuracy_score(y_test, y_pred))\n",
        "print('the accuracy is:',roc_auc_score(y_test, y_pred))\n",
        "print('Confusion matrix for the RandomForest model(with weight):')\n",
        "print(confusion_matrix(y_test, y_pred))"
      ],
      "execution_count": 15,
      "outputs": [
        {
          "output_type": "stream",
          "text": [
            "/usr/local/lib/python3.6/dist-packages/sklearn/ensemble/forest.py:246: FutureWarning: The default value of n_estimators will change from 10 in version 0.20 to 100 in 0.22.\n",
            "  \"10 in version 0.20 to 100 in 0.22.\", FutureWarning)\n"
          ],
          "name": "stderr"
        },
        {
          "output_type": "stream",
          "text": [
            "the accuracy is: 0.8765868541096132\n",
            "the accuracy is: 0.6299349564809406\n",
            "Confusion matrix for the RandomForest model(with weight):\n",
            "[[851173  22500]\n",
            " [103141  41238]]\n"
          ],
          "name": "stdout"
        }
      ]
    },
    {
      "metadata": {
        "id": "Lg_rkBKyWud0",
        "colab_type": "code",
        "outputId": "9e7b4fb9-e4bc-4994-9907-14585b59f3c9",
        "colab": {
          "base_uri": "https://localhost:8080/",
          "height": 105
        }
      },
      "cell_type": "code",
      "source": [
        "print('Accuracy for the RandomForest Tree model(with weight):',accuracy_score(y_test, y_pred))\n",
        "print('Confusion matrix for the RandomForest model(with weight):')\n",
        "print(confusion_matrix(y_test, y_pred))"
      ],
      "execution_count": 16,
      "outputs": [
        {
          "output_type": "stream",
          "text": [
            "Accuracy for the RandomForest Tree model(with weight): 0.8765868541096132\n",
            "Confusion matrix for the RandomForest model(with weight):\n",
            "[[851173  22500]\n",
            " [103141  41238]]\n"
          ],
          "name": "stdout"
        }
      ]
    },
    {
      "metadata": {
        "id": "9HT0NRCwXHOr",
        "colab_type": "code",
        "outputId": "96eab596-b979-407f-e1fe-2fc687302d38",
        "colab": {
          "base_uri": "https://localhost:8080/",
          "height": 145
        }
      },
      "cell_type": "code",
      "source": [
        "xx=['day','record_sum_5','caller_sum_5','record_sum_6','record_sum_4','brand','time_sum_5','time_sum_4','caller_sum_4','city_flag']\n",
        "X=train[xx]\n",
        "X_train, X_test, y_train, y_test = train_test_split(X, y, test_size=0.2)\n",
        "clf = RandomForestClassifier(class_weight={0:0.2,1:0.8})\n",
        "clf.fit(X_train, y_train)\n",
        "y_pred = clf.predict(X_test)\n",
        "print('Accuracy for the RandomForest Tree model(with weight and feature selection):',accuracy_score(y_test, y_pred))\n",
        "print('Confusion matrix for the RandomForest model(with weight):')\n",
        "print(confusion_matrix(y_test, y_pred))"
      ],
      "execution_count": 17,
      "outputs": [
        {
          "output_type": "stream",
          "text": [
            "/usr/local/lib/python3.6/dist-packages/sklearn/ensemble/forest.py:246: FutureWarning: The default value of n_estimators will change from 10 in version 0.20 to 100 in 0.22.\n",
            "  \"10 in version 0.20 to 100 in 0.22.\", FutureWarning)\n"
          ],
          "name": "stderr"
        },
        {
          "output_type": "stream",
          "text": [
            "Accuracy for the RandomForest Tree model(with weight and feature selection): 0.8767921481417452\n",
            "Confusion matrix for the RandomForest model(with weight):\n",
            "[[853776  19542]\n",
            " [105890  38844]]\n"
          ],
          "name": "stdout"
        }
      ]
    },
    {
      "metadata": {
        "id": "EeiUoSLmX1ez",
        "colab_type": "code",
        "colab": {}
      },
      "cell_type": "code",
      "source": [
        ""
      ],
      "execution_count": 0,
      "outputs": []
    }
  ]
}